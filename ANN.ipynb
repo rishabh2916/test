{
  "nbformat": 4,
  "nbformat_minor": 0,
  "metadata": {
    "colab": {
      "provenance": [],
      "include_colab_link": true
    },
    "kernelspec": {
      "name": "python3",
      "display_name": "Python 3"
    },
    "language_info": {
      "name": "python"
    }
  },
  "cells": [
    {
      "cell_type": "markdown",
      "metadata": {
        "id": "view-in-github",
        "colab_type": "text"
      },
      "source": [
        "<a href=\"https://colab.research.google.com/github/rishabh2916/test/blob/main/ANN.ipynb\" target=\"_parent\"><img src=\"https://colab.research.google.com/assets/colab-badge.svg\" alt=\"Open In Colab\"/></a>"
      ]
    },
    {
      "cell_type": "markdown",
      "source": [
        "**Importing mnist from keras.datasets**"
      ],
      "metadata": {
        "id": "Zfj5E8D6inwJ"
      }
    },
    {
      "cell_type": "code",
      "execution_count": null,
      "metadata": {
        "id": "Ux4mHUvPhUcZ",
        "colab": {
          "base_uri": "https://localhost:8080/"
        },
        "outputId": "a7fc325b-0bea-47ac-d862-94c34c4ccde5"
      },
      "outputs": [
        {
          "output_type": "stream",
          "name": "stdout",
          "text": [
            "Downloading data from https://storage.googleapis.com/tensorflow/tf-keras-datasets/mnist.npz\n",
            "11490434/11490434 [==============================] - 0s 0us/step\n"
          ]
        }
      ],
      "source": [
        "from keras.datasets import mnist\n",
        "(train_images, train_labels), (test_images, test_labels) = mnist.load_data()"
      ]
    },
    {
      "cell_type": "markdown",
      "source": [
        "**Training Images**"
      ],
      "metadata": {
        "id": "1vxvYeJWi0DD"
      }
    },
    {
      "cell_type": "code",
      "source": [
        "train_images.shape\n",
        "len(train_labels)\n",
        "train_labels\n",
        "test_images.shape\n",
        "len(test_labels)\n",
        "test_labels"
      ],
      "metadata": {
        "colab": {
          "base_uri": "https://localhost:8080/"
        },
        "id": "Z6goDsICkBo6",
        "outputId": "972a51ac-5096-468a-c538-e0c419465b01"
      },
      "execution_count": null,
      "outputs": [
        {
          "output_type": "execute_result",
          "data": {
            "text/plain": [
              "array([7, 2, 1, ..., 4, 5, 6], dtype=uint8)"
            ]
          },
          "metadata": {},
          "execution_count": 4
        }
      ]
    },
    {
      "cell_type": "code",
      "source": [
        "from keras import models\n",
        "from keras import layers\n",
        "network = models.Sequential()\n",
        "# Dense(32) is a fully-connected layer with 32 hidden units.\n",
        "# in the first layer, you must specify the expected input data shape :\n",
        "# here, 28 X 28=784 -dimensional vectors.\n",
        "network.add(layers.Dense(32, activation='sigmoid', input_shape=(28 * 28, )))\n",
        "network.add(layers.Dense(8, activation='sigmoid'))\n",
        "network.add(layers.Dense(10, activation='softmax'))\n",
        "network.summary()\n",
        "from google.colab import drive\n",
        "drive.mount('/content/drive')"
      ],
      "metadata": {
        "colab": {
          "base_uri": "https://localhost:8080/"
        },
        "id": "RZZyEVEZlAjp",
        "outputId": "ab4bc2fd-d383-4a78-8a12-0e343e95a20c"
      },
      "execution_count": null,
      "outputs": [
        {
          "output_type": "stream",
          "name": "stdout",
          "text": [
            "Model: \"sequential\"\n",
            "_________________________________________________________________\n",
            " Layer (type)                Output Shape              Param #   \n",
            "=================================================================\n",
            " dense (Dense)               (None, 32)                25120     \n",
            "                                                                 \n",
            " dense_1 (Dense)             (None, 8)                 264       \n",
            "                                                                 \n",
            " dense_2 (Dense)             (None, 10)                90        \n",
            "                                                                 \n",
            "=================================================================\n",
            "Total params: 25474 (99.51 KB)\n",
            "Trainable params: 25474 (99.51 KB)\n",
            "Non-trainable params: 0 (0.00 Byte)\n",
            "_________________________________________________________________\n",
            "Mounted at /content/drive\n"
          ]
        }
      ]
    },
    {
      "cell_type": "code",
      "source": [
        "network.compile(optimizer='sgd',\n",
        "                loss='categorical_crossentropy',\n",
        "                metrics=['accuracy'])"
      ],
      "metadata": {
        "id": "4_AYgGgulxTP"
      },
      "execution_count": null,
      "outputs": []
    },
    {
      "cell_type": "code",
      "source": [
        "train_images = train_images.reshape((60000, 28 * 28))\n",
        "train_images = train_images.astype('float32') / 255.\n",
        "test_images = test_images.reshape((10000, 28 * 28))\n",
        "test_images = test_images.astype('float32') / 255."
      ],
      "metadata": {
        "id": "eSvoHpKGlzG2"
      },
      "execution_count": null,
      "outputs": []
    },
    {
      "cell_type": "code",
      "source": [
        "from keras.utils import to_categorical\n",
        "train_labels = to_categorical(train_labels)\n",
        "train_labels\n",
        "test_labels = to_categorical(test_labels)\n",
        "test_labels"
      ],
      "metadata": {
        "colab": {
          "base_uri": "https://localhost:8080/"
        },
        "id": "TFJzNMIjl29C",
        "outputId": "b29e3ab1-f56f-40ce-c315-ea88fc0a0a74"
      },
      "execution_count": null,
      "outputs": [
        {
          "output_type": "execute_result",
          "data": {
            "text/plain": [
              "array([[0., 0., 0., ..., 1., 0., 0.],\n",
              "       [0., 0., 1., ..., 0., 0., 0.],\n",
              "       [0., 1., 0., ..., 0., 0., 0.],\n",
              "       ...,\n",
              "       [0., 0., 0., ..., 0., 0., 0.],\n",
              "       [0., 0., 0., ..., 0., 0., 0.],\n",
              "       [0., 0., 0., ..., 0., 0., 0.]], dtype=float32)"
            ]
          },
          "metadata": {},
          "execution_count": 8
        }
      ]
    },
    {
      "cell_type": "code",
      "source": [
        "network.fit(train_images, train_labels, epochs=160, batch_size=512)"
      ],
      "metadata": {
        "colab": {
          "base_uri": "https://localhost:8080/"
        },
        "id": "QAUaWXTrl8io",
        "outputId": "f6ce98cf-c5dc-42b4-8c09-cf07140d47ba"
      },
      "execution_count": null,
      "outputs": [
        {
          "output_type": "stream",
          "name": "stdout",
          "text": [
            "Epoch 1/160\n",
            "118/118 [==============================] - 2s 9ms/step - loss: 2.3544 - accuracy: 0.1058\n",
            "Epoch 2/160\n",
            "118/118 [==============================] - 1s 12ms/step - loss: 2.3127 - accuracy: 0.1752\n",
            "Epoch 3/160\n",
            "118/118 [==============================] - 1s 10ms/step - loss: 2.2935 - accuracy: 0.1655\n",
            "Epoch 4/160\n",
            "118/118 [==============================] - 1s 6ms/step - loss: 2.2823 - accuracy: 0.1519\n",
            "Epoch 5/160\n",
            "118/118 [==============================] - 1s 6ms/step - loss: 2.2742 - accuracy: 0.1529\n",
            "Epoch 6/160\n",
            "118/118 [==============================] - 1s 7ms/step - loss: 2.2670 - accuracy: 0.1769\n",
            "Epoch 7/160\n",
            "118/118 [==============================] - 1s 6ms/step - loss: 2.2602 - accuracy: 0.2168\n",
            "Epoch 8/160\n",
            "118/118 [==============================] - 1s 6ms/step - loss: 2.2532 - accuracy: 0.2441\n",
            "Epoch 9/160\n",
            "118/118 [==============================] - 1s 6ms/step - loss: 2.2460 - accuracy: 0.2750\n",
            "Epoch 10/160\n",
            "118/118 [==============================] - 1s 6ms/step - loss: 2.2385 - accuracy: 0.2894\n",
            "Epoch 11/160\n",
            "118/118 [==============================] - 1s 6ms/step - loss: 2.2305 - accuracy: 0.3033\n",
            "Epoch 12/160\n",
            "118/118 [==============================] - 1s 7ms/step - loss: 2.2219 - accuracy: 0.3320\n",
            "Epoch 13/160\n",
            "118/118 [==============================] - 1s 9ms/step - loss: 2.2128 - accuracy: 0.3455\n",
            "Epoch 14/160\n",
            "118/118 [==============================] - 1s 9ms/step - loss: 2.2031 - accuracy: 0.3667\n",
            "Epoch 15/160\n",
            "118/118 [==============================] - 1s 10ms/step - loss: 2.1927 - accuracy: 0.3817\n",
            "Epoch 16/160\n",
            "118/118 [==============================] - 1s 9ms/step - loss: 2.1816 - accuracy: 0.3940\n",
            "Epoch 17/160\n",
            "118/118 [==============================] - 1s 7ms/step - loss: 2.1696 - accuracy: 0.4061\n",
            "Epoch 18/160\n",
            "118/118 [==============================] - 1s 6ms/step - loss: 2.1568 - accuracy: 0.4160\n",
            "Epoch 19/160\n",
            "118/118 [==============================] - 1s 6ms/step - loss: 2.1431 - accuracy: 0.4318\n",
            "Epoch 20/160\n",
            "118/118 [==============================] - 1s 6ms/step - loss: 2.1285 - accuracy: 0.4433\n",
            "Epoch 21/160\n",
            "118/118 [==============================] - 1s 6ms/step - loss: 2.1129 - accuracy: 0.4539\n",
            "Epoch 22/160\n",
            "118/118 [==============================] - 1s 6ms/step - loss: 2.0964 - accuracy: 0.4647\n",
            "Epoch 23/160\n",
            "118/118 [==============================] - 1s 6ms/step - loss: 2.0789 - accuracy: 0.4791\n",
            "Epoch 24/160\n",
            "118/118 [==============================] - 1s 6ms/step - loss: 2.0605 - accuracy: 0.4902\n",
            "Epoch 25/160\n",
            "118/118 [==============================] - 1s 5ms/step - loss: 2.0412 - accuracy: 0.5010\n",
            "Epoch 26/160\n",
            "118/118 [==============================] - 1s 6ms/step - loss: 2.0211 - accuracy: 0.5127\n",
            "Epoch 27/160\n",
            "118/118 [==============================] - 1s 6ms/step - loss: 2.0002 - accuracy: 0.5244\n",
            "Epoch 28/160\n",
            "118/118 [==============================] - 1s 6ms/step - loss: 1.9786 - accuracy: 0.5342\n",
            "Epoch 29/160\n",
            "118/118 [==============================] - 1s 6ms/step - loss: 1.9565 - accuracy: 0.5462\n",
            "Epoch 30/160\n",
            "118/118 [==============================] - 1s 6ms/step - loss: 1.9339 - accuracy: 0.5521\n",
            "Epoch 31/160\n",
            "118/118 [==============================] - 1s 7ms/step - loss: 1.9109 - accuracy: 0.5640\n",
            "Epoch 32/160\n",
            "118/118 [==============================] - 1s 9ms/step - loss: 1.8876 - accuracy: 0.5718\n",
            "Epoch 33/160\n",
            "118/118 [==============================] - 1s 9ms/step - loss: 1.8641 - accuracy: 0.5770\n",
            "Epoch 34/160\n",
            "118/118 [==============================] - 1s 9ms/step - loss: 1.8406 - accuracy: 0.5865\n",
            "Epoch 35/160\n",
            "118/118 [==============================] - 1s 9ms/step - loss: 1.8170 - accuracy: 0.5923\n",
            "Epoch 36/160\n",
            "118/118 [==============================] - 1s 7ms/step - loss: 1.7935 - accuracy: 0.5979\n",
            "Epoch 37/160\n",
            "118/118 [==============================] - 1s 6ms/step - loss: 1.7701 - accuracy: 0.6017\n",
            "Epoch 38/160\n",
            "118/118 [==============================] - 1s 6ms/step - loss: 1.7469 - accuracy: 0.6066\n",
            "Epoch 39/160\n",
            "118/118 [==============================] - 1s 6ms/step - loss: 1.7239 - accuracy: 0.6111\n",
            "Epoch 40/160\n",
            "118/118 [==============================] - 1s 6ms/step - loss: 1.7011 - accuracy: 0.6144\n",
            "Epoch 41/160\n",
            "118/118 [==============================] - 1s 6ms/step - loss: 1.6787 - accuracy: 0.6200\n",
            "Epoch 42/160\n",
            "118/118 [==============================] - 1s 6ms/step - loss: 1.6566 - accuracy: 0.6220\n",
            "Epoch 43/160\n",
            "118/118 [==============================] - 1s 6ms/step - loss: 1.6348 - accuracy: 0.6272\n",
            "Epoch 44/160\n",
            "118/118 [==============================] - 1s 9ms/step - loss: 1.6134 - accuracy: 0.6312\n",
            "Epoch 45/160\n",
            "118/118 [==============================] - 1s 9ms/step - loss: 1.5924 - accuracy: 0.6337\n",
            "Epoch 46/160\n",
            "118/118 [==============================] - 1s 6ms/step - loss: 1.5718 - accuracy: 0.6373\n",
            "Epoch 47/160\n",
            "118/118 [==============================] - 1s 6ms/step - loss: 1.5516 - accuracy: 0.6391\n",
            "Epoch 48/160\n",
            "118/118 [==============================] - 1s 7ms/step - loss: 1.5317 - accuracy: 0.6430\n",
            "Epoch 49/160\n",
            "118/118 [==============================] - 1s 9ms/step - loss: 1.5123 - accuracy: 0.6466\n",
            "Epoch 50/160\n",
            "118/118 [==============================] - 1s 9ms/step - loss: 1.4933 - accuracy: 0.6490\n",
            "Epoch 51/160\n",
            "118/118 [==============================] - 1s 9ms/step - loss: 1.4748 - accuracy: 0.6512\n",
            "Epoch 52/160\n",
            "118/118 [==============================] - 1s 9ms/step - loss: 1.4566 - accuracy: 0.6537\n",
            "Epoch 53/160\n",
            "118/118 [==============================] - 1s 7ms/step - loss: 1.4388 - accuracy: 0.6562\n",
            "Epoch 54/160\n",
            "118/118 [==============================] - 1s 6ms/step - loss: 1.4214 - accuracy: 0.6592\n",
            "Epoch 55/160\n",
            "118/118 [==============================] - 1s 6ms/step - loss: 1.4044 - accuracy: 0.6618\n",
            "Epoch 56/160\n",
            "118/118 [==============================] - 1s 6ms/step - loss: 1.3878 - accuracy: 0.6644\n",
            "Epoch 57/160\n",
            "118/118 [==============================] - 1s 5ms/step - loss: 1.3715 - accuracy: 0.6654\n",
            "Epoch 58/160\n",
            "118/118 [==============================] - 1s 5ms/step - loss: 1.3557 - accuracy: 0.6682\n",
            "Epoch 59/160\n",
            "118/118 [==============================] - 1s 6ms/step - loss: 1.3402 - accuracy: 0.6717\n",
            "Epoch 60/160\n",
            "118/118 [==============================] - 1s 6ms/step - loss: 1.3250 - accuracy: 0.6728\n",
            "Epoch 61/160\n",
            "118/118 [==============================] - 1s 6ms/step - loss: 1.3102 - accuracy: 0.6758\n",
            "Epoch 62/160\n",
            "118/118 [==============================] - 1s 5ms/step - loss: 1.2958 - accuracy: 0.6792\n",
            "Epoch 63/160\n",
            "118/118 [==============================] - 1s 5ms/step - loss: 1.2817 - accuracy: 0.6816\n",
            "Epoch 64/160\n",
            "118/118 [==============================] - 1s 6ms/step - loss: 1.2679 - accuracy: 0.6845\n",
            "Epoch 65/160\n",
            "118/118 [==============================] - 1s 6ms/step - loss: 1.2545 - accuracy: 0.6877\n",
            "Epoch 66/160\n",
            "118/118 [==============================] - 1s 6ms/step - loss: 1.2414 - accuracy: 0.6894\n",
            "Epoch 67/160\n",
            "118/118 [==============================] - 1s 7ms/step - loss: 1.2286 - accuracy: 0.6932\n",
            "Epoch 68/160\n",
            "118/118 [==============================] - 1s 9ms/step - loss: 1.2160 - accuracy: 0.6963\n",
            "Epoch 69/160\n",
            "118/118 [==============================] - 1s 9ms/step - loss: 1.2038 - accuracy: 0.6988\n",
            "Epoch 70/160\n",
            "118/118 [==============================] - 1s 9ms/step - loss: 1.1919 - accuracy: 0.7013\n",
            "Epoch 71/160\n",
            "118/118 [==============================] - 1s 9ms/step - loss: 1.1803 - accuracy: 0.7023\n",
            "Epoch 72/160\n",
            "118/118 [==============================] - 1s 8ms/step - loss: 1.1689 - accuracy: 0.7059\n",
            "Epoch 73/160\n",
            "118/118 [==============================] - 1s 6ms/step - loss: 1.1578 - accuracy: 0.7078\n",
            "Epoch 74/160\n",
            "118/118 [==============================] - 1s 6ms/step - loss: 1.1470 - accuracy: 0.7111\n",
            "Epoch 75/160\n",
            "118/118 [==============================] - 1s 6ms/step - loss: 1.1364 - accuracy: 0.7140\n",
            "Epoch 76/160\n",
            "118/118 [==============================] - 1s 6ms/step - loss: 1.1261 - accuracy: 0.7150\n",
            "Epoch 77/160\n",
            "118/118 [==============================] - 1s 6ms/step - loss: 1.1159 - accuracy: 0.7186\n",
            "Epoch 78/160\n",
            "118/118 [==============================] - 1s 6ms/step - loss: 1.1061 - accuracy: 0.7207\n",
            "Epoch 79/160\n",
            "118/118 [==============================] - 1s 6ms/step - loss: 1.0964 - accuracy: 0.7218\n",
            "Epoch 80/160\n",
            "118/118 [==============================] - 1s 6ms/step - loss: 1.0870 - accuracy: 0.7248\n",
            "Epoch 81/160\n",
            "118/118 [==============================] - 1s 6ms/step - loss: 1.0778 - accuracy: 0.7258\n",
            "Epoch 82/160\n",
            "118/118 [==============================] - 1s 6ms/step - loss: 1.0687 - accuracy: 0.7275\n",
            "Epoch 83/160\n",
            "118/118 [==============================] - 1s 6ms/step - loss: 1.0599 - accuracy: 0.7289\n",
            "Epoch 84/160\n",
            "118/118 [==============================] - 1s 6ms/step - loss: 1.0513 - accuracy: 0.7314\n",
            "Epoch 85/160\n",
            "118/118 [==============================] - 1s 6ms/step - loss: 1.0428 - accuracy: 0.7343\n",
            "Epoch 86/160\n",
            "118/118 [==============================] - 1s 9ms/step - loss: 1.0345 - accuracy: 0.7359\n",
            "Epoch 87/160\n",
            "118/118 [==============================] - 1s 8ms/step - loss: 1.0264 - accuracy: 0.7380\n",
            "Epoch 88/160\n",
            "118/118 [==============================] - 1s 9ms/step - loss: 1.0185 - accuracy: 0.7397\n",
            "Epoch 89/160\n",
            "118/118 [==============================] - 1s 9ms/step - loss: 1.0107 - accuracy: 0.7411\n",
            "Epoch 90/160\n",
            "118/118 [==============================] - 1s 9ms/step - loss: 1.0031 - accuracy: 0.7436\n",
            "Epoch 91/160\n",
            "118/118 [==============================] - 1s 6ms/step - loss: 0.9956 - accuracy: 0.7453\n",
            "Epoch 92/160\n",
            "118/118 [==============================] - 1s 6ms/step - loss: 0.9883 - accuracy: 0.7469\n",
            "Epoch 93/160\n",
            "118/118 [==============================] - 1s 6ms/step - loss: 0.9811 - accuracy: 0.7482\n",
            "Epoch 94/160\n",
            "118/118 [==============================] - 1s 6ms/step - loss: 0.9740 - accuracy: 0.7502\n",
            "Epoch 95/160\n",
            "118/118 [==============================] - 1s 6ms/step - loss: 0.9671 - accuracy: 0.7519\n",
            "Epoch 96/160\n",
            "118/118 [==============================] - 1s 6ms/step - loss: 0.9603 - accuracy: 0.7533\n",
            "Epoch 97/160\n",
            "118/118 [==============================] - 1s 6ms/step - loss: 0.9536 - accuracy: 0.7559\n",
            "Epoch 98/160\n",
            "118/118 [==============================] - 1s 6ms/step - loss: 0.9471 - accuracy: 0.7577\n",
            "Epoch 99/160\n",
            "118/118 [==============================] - 1s 6ms/step - loss: 0.9406 - accuracy: 0.7597\n",
            "Epoch 100/160\n",
            "118/118 [==============================] - 1s 6ms/step - loss: 0.9343 - accuracy: 0.7609\n",
            "Epoch 101/160\n",
            "118/118 [==============================] - 1s 6ms/step - loss: 0.9281 - accuracy: 0.7630\n",
            "Epoch 102/160\n",
            "118/118 [==============================] - 1s 6ms/step - loss: 0.9219 - accuracy: 0.7639\n",
            "Epoch 103/160\n",
            "118/118 [==============================] - 1s 6ms/step - loss: 0.9159 - accuracy: 0.7657\n",
            "Epoch 104/160\n",
            "118/118 [==============================] - 1s 8ms/step - loss: 0.9100 - accuracy: 0.7669\n",
            "Epoch 105/160\n",
            "118/118 [==============================] - 1s 9ms/step - loss: 0.9042 - accuracy: 0.7679\n",
            "Epoch 106/160\n",
            "118/118 [==============================] - 1s 9ms/step - loss: 0.8984 - accuracy: 0.7694\n",
            "Epoch 107/160\n",
            "118/118 [==============================] - 1s 8ms/step - loss: 0.8928 - accuracy: 0.7710\n",
            "Epoch 108/160\n",
            "118/118 [==============================] - 1s 10ms/step - loss: 0.8872 - accuracy: 0.7729\n",
            "Epoch 109/160\n",
            "118/118 [==============================] - 1s 7ms/step - loss: 0.8818 - accuracy: 0.7739\n",
            "Epoch 110/160\n",
            "118/118 [==============================] - 1s 6ms/step - loss: 0.8763 - accuracy: 0.7754\n",
            "Epoch 111/160\n",
            "118/118 [==============================] - 1s 6ms/step - loss: 0.8710 - accuracy: 0.7773\n",
            "Epoch 112/160\n",
            "118/118 [==============================] - 1s 5ms/step - loss: 0.8658 - accuracy: 0.7789\n",
            "Epoch 113/160\n",
            "118/118 [==============================] - 1s 6ms/step - loss: 0.8606 - accuracy: 0.7804\n",
            "Epoch 114/160\n",
            "118/118 [==============================] - 1s 6ms/step - loss: 0.8555 - accuracy: 0.7818\n",
            "Epoch 115/160\n",
            "118/118 [==============================] - 1s 6ms/step - loss: 0.8505 - accuracy: 0.7832\n",
            "Epoch 116/160\n",
            "118/118 [==============================] - 1s 5ms/step - loss: 0.8455 - accuracy: 0.7844\n",
            "Epoch 117/160\n",
            "118/118 [==============================] - 1s 5ms/step - loss: 0.8406 - accuracy: 0.7858\n",
            "Epoch 118/160\n",
            "118/118 [==============================] - 1s 6ms/step - loss: 0.8357 - accuracy: 0.7866\n",
            "Epoch 119/160\n",
            "118/118 [==============================] - 1s 5ms/step - loss: 0.8310 - accuracy: 0.7878\n",
            "Epoch 120/160\n",
            "118/118 [==============================] - 1s 6ms/step - loss: 0.8263 - accuracy: 0.7890\n",
            "Epoch 121/160\n",
            "118/118 [==============================] - 1s 6ms/step - loss: 0.8216 - accuracy: 0.7905\n",
            "Epoch 122/160\n",
            "118/118 [==============================] - 1s 6ms/step - loss: 0.8170 - accuracy: 0.7915\n",
            "Epoch 123/160\n",
            "118/118 [==============================] - 1s 8ms/step - loss: 0.8124 - accuracy: 0.7928\n",
            "Epoch 124/160\n",
            "118/118 [==============================] - 1s 10ms/step - loss: 0.8079 - accuracy: 0.7938\n",
            "Epoch 125/160\n",
            "118/118 [==============================] - 1s 9ms/step - loss: 0.8034 - accuracy: 0.7950\n",
            "Epoch 126/160\n",
            "118/118 [==============================] - 1s 9ms/step - loss: 0.7990 - accuracy: 0.7967\n",
            "Epoch 127/160\n",
            "118/118 [==============================] - 1s 9ms/step - loss: 0.7947 - accuracy: 0.7974\n",
            "Epoch 128/160\n",
            "118/118 [==============================] - 1s 7ms/step - loss: 0.7903 - accuracy: 0.7988\n",
            "Epoch 129/160\n",
            "118/118 [==============================] - 1s 6ms/step - loss: 0.7861 - accuracy: 0.8002\n",
            "Epoch 130/160\n",
            "118/118 [==============================] - 1s 6ms/step - loss: 0.7818 - accuracy: 0.8015\n",
            "Epoch 131/160\n",
            "118/118 [==============================] - 1s 6ms/step - loss: 0.7777 - accuracy: 0.8027\n",
            "Epoch 132/160\n",
            "118/118 [==============================] - 1s 8ms/step - loss: 0.7735 - accuracy: 0.8042\n",
            "Epoch 133/160\n",
            "118/118 [==============================] - 1s 5ms/step - loss: 0.7694 - accuracy: 0.8054\n",
            "Epoch 134/160\n",
            "118/118 [==============================] - 1s 5ms/step - loss: 0.7654 - accuracy: 0.8066\n",
            "Epoch 135/160\n",
            "118/118 [==============================] - 1s 7ms/step - loss: 0.7613 - accuracy: 0.8078\n",
            "Epoch 136/160\n",
            "118/118 [==============================] - 1s 6ms/step - loss: 0.7573 - accuracy: 0.8092\n",
            "Epoch 137/160\n",
            "118/118 [==============================] - 1s 6ms/step - loss: 0.7534 - accuracy: 0.8107\n",
            "Epoch 138/160\n",
            "118/118 [==============================] - 1s 6ms/step - loss: 0.7494 - accuracy: 0.8114\n",
            "Epoch 139/160\n",
            "118/118 [==============================] - 1s 6ms/step - loss: 0.7456 - accuracy: 0.8132\n",
            "Epoch 140/160\n",
            "118/118 [==============================] - 1s 6ms/step - loss: 0.7417 - accuracy: 0.8140\n",
            "Epoch 141/160\n",
            "118/118 [==============================] - 1s 6ms/step - loss: 0.7379 - accuracy: 0.8150\n",
            "Epoch 142/160\n",
            "118/118 [==============================] - 1s 9ms/step - loss: 0.7341 - accuracy: 0.8163\n",
            "Epoch 143/160\n",
            "118/118 [==============================] - 1s 10ms/step - loss: 0.7303 - accuracy: 0.8178\n",
            "Epoch 144/160\n",
            "118/118 [==============================] - 1s 9ms/step - loss: 0.7266 - accuracy: 0.8188\n",
            "Epoch 145/160\n",
            "118/118 [==============================] - 1s 9ms/step - loss: 0.7229 - accuracy: 0.8198\n",
            "Epoch 146/160\n",
            "118/118 [==============================] - 1s 8ms/step - loss: 0.7192 - accuracy: 0.8211\n",
            "Epoch 147/160\n",
            "118/118 [==============================] - 1s 6ms/step - loss: 0.7155 - accuracy: 0.8219\n",
            "Epoch 148/160\n",
            "118/118 [==============================] - 1s 5ms/step - loss: 0.7119 - accuracy: 0.8234\n",
            "Epoch 149/160\n",
            "118/118 [==============================] - 1s 6ms/step - loss: 0.7083 - accuracy: 0.8238\n",
            "Epoch 150/160\n",
            "118/118 [==============================] - 1s 6ms/step - loss: 0.7047 - accuracy: 0.8248\n",
            "Epoch 151/160\n",
            "118/118 [==============================] - 1s 6ms/step - loss: 0.7012 - accuracy: 0.8259\n",
            "Epoch 152/160\n",
            "118/118 [==============================] - 1s 6ms/step - loss: 0.6976 - accuracy: 0.8269\n",
            "Epoch 153/160\n",
            "118/118 [==============================] - 1s 9ms/step - loss: 0.6941 - accuracy: 0.8281\n",
            "Epoch 154/160\n",
            "118/118 [==============================] - 1s 6ms/step - loss: 0.6906 - accuracy: 0.8292\n",
            "Epoch 155/160\n",
            "118/118 [==============================] - 1s 7ms/step - loss: 0.6872 - accuracy: 0.8304\n",
            "Epoch 156/160\n",
            "118/118 [==============================] - 1s 6ms/step - loss: 0.6837 - accuracy: 0.8309\n",
            "Epoch 157/160\n",
            "118/118 [==============================] - 1s 6ms/step - loss: 0.6803 - accuracy: 0.8325\n",
            "Epoch 158/160\n",
            "118/118 [==============================] - 1s 6ms/step - loss: 0.6769 - accuracy: 0.8330\n",
            "Epoch 159/160\n",
            "118/118 [==============================] - 1s 7ms/step - loss: 0.6736 - accuracy: 0.8345\n",
            "Epoch 160/160\n",
            "118/118 [==============================] - 1s 9ms/step - loss: 0.6702 - accuracy: 0.8354\n"
          ]
        },
        {
          "output_type": "execute_result",
          "data": {
            "text/plain": [
              "<keras.src.callbacks.History at 0x7d0ef9af6f50>"
            ]
          },
          "metadata": {},
          "execution_count": 9
        }
      ]
    },
    {
      "cell_type": "code",
      "source": [
        "test_loss, test_acc = network.evaluate(test_images, test_labels)\n",
        "print('Test Accuracy: {:.5f} '.format(test_acc))\n",
        "test_acc"
      ],
      "metadata": {
        "colab": {
          "base_uri": "https://localhost:8080/"
        },
        "id": "xZFouwfumvft",
        "outputId": "3f52cacb-fecf-44d9-95e8-d20002dbd038"
      },
      "execution_count": null,
      "outputs": [
        {
          "output_type": "stream",
          "name": "stdout",
          "text": [
            "313/313 [==============================] - 1s 2ms/step - loss: 0.6575 - accuracy: 0.8397\n",
            "Test Accuracy: 0.83970 \n"
          ]
        },
        {
          "output_type": "execute_result",
          "data": {
            "text/plain": [
              "0.8396999835968018"
            ]
          },
          "metadata": {},
          "execution_count": 10
        }
      ]
    },
    {
      "cell_type": "code",
      "source": [
        "from keras.utils import plot_model\n",
        "plot_model(network, to_file='model.png')\n",
        "import matplotlib.pyplot as plt\n",
        "history =network.fit(train_images, train_labels, validation_split=0.33,epochs=5, batch_size=512)\n",
        "history_dict = history.history\n",
        "print(history_dict.keys())\n",
        "plt.plot(history.history['accuracy'])\n",
        "plt.plot(history.history['val_accuracy'])\n",
        "plt.title('Model accuracy')\n",
        "plt.ylabel('Accuracy')\n",
        "plt.xlabel('Epoch')\n",
        "plt.legend(['Train', 'Test'], loc='upper left')\n",
        "plt.show()\n",
        "\n",
        "\n",
        "# Plot training & validation loss values\n",
        "plt.plot(history.history['loss'])\n",
        "plt.plot(history.history['val_loss'])\n",
        "plt.title('Model loss')\n",
        "plt.ylabel('Loss')\n",
        "plt.xlabel('Epoch')\n",
        "plt.legend(['Train', 'Test'], loc='upper left')\n",
        "plt.show()"
      ],
      "metadata": {
        "id": "jMmAw89emzUW",
        "colab": {
          "base_uri": "https://localhost:8080/",
          "height": 1000
        },
        "outputId": "3fdc4cec-2f4e-4797-abd1-013a43b469da"
      },
      "execution_count": null,
      "outputs": [
        {
          "output_type": "stream",
          "name": "stdout",
          "text": [
            "Epoch 1/5\n",
            "79/79 [==============================] - 2s 21ms/step - loss: 0.6717 - accuracy: 0.8343 - val_loss: 0.6576 - val_accuracy: 0.8409\n",
            "Epoch 2/5\n",
            "79/79 [==============================] - 1s 16ms/step - loss: 0.6694 - accuracy: 0.8353 - val_loss: 0.6554 - val_accuracy: 0.8415\n",
            "Epoch 3/5\n",
            "79/79 [==============================] - 1s 16ms/step - loss: 0.6672 - accuracy: 0.8359 - val_loss: 0.6533 - val_accuracy: 0.8419\n",
            "Epoch 4/5\n",
            "79/79 [==============================] - 1s 17ms/step - loss: 0.6650 - accuracy: 0.8367 - val_loss: 0.6512 - val_accuracy: 0.8424\n",
            "Epoch 5/5\n",
            "79/79 [==============================] - 2s 21ms/step - loss: 0.6627 - accuracy: 0.8377 - val_loss: 0.6490 - val_accuracy: 0.8434\n",
            "dict_keys(['loss', 'accuracy', 'val_loss', 'val_accuracy'])\n"
          ]
        },
        {
          "output_type": "display_data",
          "data": {
            "text/plain": [
              "<Figure size 640x480 with 1 Axes>"
            ],
            "image/png": "[encoded data removed]"
          },
          "metadata": {}
        },
        {
          "output_type": "display_data",
          "data": {
            "text/plain": [
              "<Figure size 640x480 with 1 Axes>"
            ],
            "image/png": "[encoded data removed]"
          },
          "metadata": {}
        }
      ]
    }
  ]
}